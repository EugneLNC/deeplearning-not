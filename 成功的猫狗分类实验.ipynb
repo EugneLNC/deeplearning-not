{
 "cells": [
  {
   "cell_type": "code",
   "execution_count": 1,
   "id": "527fbfbb-a928-47ab-9475-4f3d4d340196",
   "metadata": {},
   "outputs": [
    {
     "name": "stdout",
     "output_type": "stream",
     "text": [
      "2.5.1+cu121 0.20.1+cu121\n",
      "CUDA? True runtime 12.1\n"
     ]
    }
   ],
   "source": [
    "import torch, torchvision, sys\n",
    "print(torch.__version__, torchvision.__version__)\n",
    "print(\"CUDA?\", torch.cuda.is_available(), \"runtime\", torch.version.cuda)\n"
   ]
  },
  {
   "cell_type": "code",
   "execution_count": 2,
   "id": "433973ae-59d3-4599-be9d-83345b047ea1",
   "metadata": {},
   "outputs": [
    {
     "name": "stdout",
     "output_type": "stream",
     "text": [
      "{\n",
      "  \"executable\": \"E:\\\\python\\\\anaconda\\\\envs\\\\dl-exp\\\\python.exe\",\n",
      "  \"env\": \"dl-exp\",\n",
      "  \"torch\": \"2.5.1+cu121\",\n",
      "  \"torchvision\": \"0.20.1+cu121\",\n",
      "  \"cuda?\": true\n",
      "}\n"
     ]
    }
   ],
   "source": [
    "import sys, os, subprocess, json, torch\n",
    "info = {\n",
    "    \"executable\": sys.executable,\n",
    "    \"env\": os.environ.get('CONDA_DEFAULT_ENV', 'N/A'),\n",
    "    \"torch\": torch.__version__,\n",
    "    \"torchvision\": __import__('importlib').import_module('torchvision').__version__,\n",
    "    \"cuda?\": torch.cuda.is_available(),\n",
    "}\n",
    "print(json.dumps(info, indent=2))\n"
   ]
  },
  {
   "cell_type": "code",
   "execution_count": 3,
   "id": "e364de0e-19a5-4cbd-9eed-47d57f955923",
   "metadata": {},
   "outputs": [],
   "source": [
    "# ===== Cell 1  : 依赖导入 =====\n",
    "import os\n",
    "import torch\n",
    "import torch.nn as nn\n",
    "import torch.optim as optim\n",
    "import torch.utils.data as data\n",
    "import torch.utils.data.distributed\n",
    "import torchvision.transforms as T\n",
    "import torchvision.models as models\n",
    "from torch.autograd import Variable\n",
    "from PIL import Image                # 如果后面自己写 Dataset 可能用到\n"
   ]
  },
  {
   "cell_type": "code",
   "execution_count": 4,
   "id": "437a4b03-0b1d-467c-a41d-3d809b889ed3",
   "metadata": {},
   "outputs": [
    {
     "name": "stdout",
     "output_type": "stream",
     "text": [
      "Using device: cuda\n"
     ]
    }
   ],
   "source": [
    "# ===== Cell 2  : 设备检测 =====\n",
    "DEVICE = torch.device('cuda' if torch.cuda.is_available() else 'cpu')\n",
    "print(\"Using device:\", DEVICE)\n"
   ]
  },
  {
   "cell_type": "markdown",
   "id": "3f4511bc-dde8-418f-bf52-d09ae6ec75b3",
   "metadata": {},
   "source": [
    "dataset/\n",
    "  train/\n",
    "    cat/\n",
    "      xxx.jpg\n",
    "    dog/\n",
    "      yyy.jpg\n",
    "  val/ \n",
    "      xxx.jpg\n",
    "    dog/\n",
    "      yyy.jpg\n",
    "  test/ \n",
    "      xxx.jpg\n",
    "    dog/\n",
    "      yyy.jpg"
   ]
  },
  {
   "cell_type": "code",
   "execution_count": 6,
   "id": "41b83188-86d8-436f-bdd5-6028fe397235",
   "metadata": {},
   "outputs": [
    {
     "name": "stdout",
     "output_type": "stream",
     "text": [
      "cats_vs_dogs → train:270  val:66  test:6\n",
      "Classes: ['cat', 'dog']\n"
     ]
    }
   ],
   "source": [
    "# ===== 依赖导入 =====\n",
    "from pathlib import Path\n",
    "import torch\n",
    "from torch.utils.data import DataLoader\n",
    "from torchvision import datasets, transforms\n",
    "\n",
    "# ===== 路径 =====\n",
    "DATA_ROOT = Path(r\"E:\\项目\\深度学习实验\\dataset\")   # 改成你的实际相对/绝对路径\n",
    "\n",
    "# ===== 预处理 / 增强 =====\n",
    "IMG_SIZE = 224\n",
    "mean = [0.485, 0.456, 0.406]\n",
    "std  = [0.229, 0.224, 0.225]\n",
    "\n",
    "train_tf = transforms.Compose([\n",
    "    transforms.RandomResizedCrop(IMG_SIZE, scale=(0.8, 1.0)),\n",
    "    transforms.RandomHorizontalFlip(),\n",
    "    transforms.ColorJitter(0.2, 0.2, 0.2, 0.1),\n",
    "    transforms.ToTensor(),\n",
    "    transforms.Normalize(mean, std)\n",
    "])\n",
    "\n",
    "val_tf = transforms.Compose([\n",
    "    transforms.Resize(int(IMG_SIZE*1.14)),   # 256\n",
    "    transforms.CenterCrop(IMG_SIZE),\n",
    "    transforms.ToTensor(),\n",
    "    transforms.Normalize(mean, std)\n",
    "])\n",
    "\n",
    "# ===== ImageFolder 数据集 =====\n",
    "train_ds = datasets.ImageFolder(DATA_ROOT/'train', transform=train_tf)\n",
    "val_ds   = datasets.ImageFolder(DATA_ROOT/'val',   transform=val_tf)\n",
    "test_ds  = datasets.ImageFolder(DATA_ROOT/'test',  transform=val_tf)\n",
    "\n",
    "train_ld = DataLoader(train_ds, batch_size=64, shuffle=True,  num_workers=4, pin_memory=True)\n",
    "val_ld   = DataLoader(val_ds,   batch_size=64, shuffle=False, num_workers=4, pin_memory=True)\n",
    "test_ld  = DataLoader(test_ds,  batch_size=64, shuffle=False, num_workers=4, pin_memory=True)\n",
    "\n",
    "print(f\"cats_vs_dogs → train:{len(train_ds)}  val:{len(val_ds)}  test:{len(test_ds)}\")\n",
    "print(\"Classes:\", train_ds.classes)\n"
   ]
  },
  {
   "cell_type": "code",
   "execution_count": 7,
   "id": "ea7052d1-55cd-4f1a-9678-f99f7b80b855",
   "metadata": {
    "tags": []
   },
   "outputs": [
    {
     "name": "stderr",
     "output_type": "stream",
     "text": [
      "Downloading: \"https://download.pytorch.org/models/resnet18-f37072fd.pth\" to C:\\Users\\Eugen_LNCantientropy/.cache\\torch\\hub\\checkpoints\\resnet18-f37072fd.pth\n",
      "100%|█████████████████████████████████████████████████████████████████████████████| 44.7M/44.7M [00:29<00:00, 1.60MB/s]\n"
     ]
    },
    {
     "name": "stdout",
     "output_type": "stream",
     "text": [
      "E01  train_acc=0.884  val_acc=0.992\n",
      "E02  train_acc=1.000  val_acc=0.992\n",
      "E03  train_acc=1.000  val_acc=1.000\n",
      "E04  train_acc=1.000  val_acc=1.000\n",
      "E05  train_acc=1.000  val_acc=1.000\n"
     ]
    }
   ],
   "source": [
    "import torch.nn as nn, torch.optim as optim\n",
    "import torchvision.models as models\n",
    "\n",
    "device = torch.device('cuda' if torch.cuda.is_available() else 'cpu')\n",
    "model = models.resnet18(weights='IMAGENET1K_V1')\n",
    "model.fc = nn.Linear(model.fc.in_features, 2)\n",
    "model.to(device)\n",
    "\n",
    "criterion = nn.CrossEntropyLoss()\n",
    "optimizer = optim.Adam(model.parameters(), lr=1e-4)\n",
    "\n",
    "for epoch in range(1, 6):           # 先跑 5 轮试通\n",
    "    # ---- train ----\n",
    "    model.train(); loss_sum = acc_sum = 0\n",
    "    for x, y in train_ld:\n",
    "        x, y = x.to(device), y.to(device)\n",
    "        out  = model(x);  loss = criterion(out, y)\n",
    "        optimizer.zero_grad(); loss.backward(); optimizer.step()\n",
    "        loss_sum += loss.item()\n",
    "        acc_sum  += (out.argmax(1)==y).float().mean().item()\n",
    "\n",
    "    # ---- val ----\n",
    "    model.eval(); val_acc = 0\n",
    "    with torch.no_grad():\n",
    "        for x, y in val_ld:\n",
    "            x, y = x.to(device), y.to(device)\n",
    "            out  = model(x)\n",
    "            val_acc += (out.argmax(1)==y).float().mean().item()\n",
    "\n",
    "    print(f\"E{epoch:02d}  train_acc={acc_sum/len(train_ld):.3f}  \"\n",
    "          f\"val_acc={val_acc/len(val_ld):.3f}\")\n"
   ]
  },
  {
   "cell_type": "markdown",
   "id": "e4204062-a812-498f-a5d2-9f8f35afed5b",
   "metadata": {},
   "source": [
    "Cell 1 — 基础导入与设备"
   ]
  },
  {
   "cell_type": "code",
   "execution_count": 10,
   "id": "5a8b9a4d-8499-4127-92a7-111e15a83c44",
   "metadata": {
    "tags": []
   },
   "outputs": [
    {
     "name": "stdout",
     "output_type": "stream",
     "text": [
      "Using cuda\n"
     ]
    }
   ],
   "source": [
    "import time, copy, json, math, os\n",
    "from pathlib import Path\n",
    "\n",
    "import torch, torch.nn as nn, torch.optim as optim\n",
    "from torch.utils.data import DataLoader\n",
    "from torchvision import datasets, transforms, models\n",
    "from sklearn.metrics import (confusion_matrix, ConfusionMatrixDisplay,\n",
    "                             roc_curve, auc)\n",
    "import matplotlib.pyplot as plt\n",
    "plt.style.use('ggplot')\n",
    "\n",
    "DEVICE = torch.device('cuda' if torch.cuda.is_available() else 'cpu')\n",
    "print('Using', DEVICE)\n"
   ]
  },
  {
   "cell_type": "markdown",
   "id": "651b0105-a6ba-42f3-94b4-a50f2f33b5b8",
   "metadata": {},
   "source": [
    "Cell 2 — 数据集与 DataLoader"
   ]
  },
  {
   "cell_type": "code",
   "execution_count": 12,
   "id": "b589364a-ea87-4c51-8956-dbe07e5bbb20",
   "metadata": {},
   "outputs": [
    {
     "name": "stdout",
     "output_type": "stream",
     "text": [
      "Samples — train:270  val:66  test:6\n"
     ]
    }
   ],
   "source": [
    "# 路径 & 超参数\n",
    "DATA_ROOT = Path(r\"E:\\项目\\深度学习实验\\dataset\")   # 改成你的路径\n",
    "IMG_SIZE  = 224\n",
    "BATCH     = 64\n",
    "mean=[0.485,0.456,0.406]; std=[0.229,0.224,0.225]\n",
    "\n",
    "train_tf = transforms.Compose([\n",
    "    transforms.RandomResizedCrop(IMG_SIZE, scale=(0.8,1.0)),\n",
    "    transforms.RandomHorizontalFlip(),\n",
    "    transforms.ColorJitter(0.2,0.2,0.2,0.1),\n",
    "    transforms.ToTensor(), transforms.Normalize(mean,std)\n",
    "])\n",
    "val_tf = transforms.Compose([\n",
    "    transforms.Resize(int(IMG_SIZE*1.14)), transforms.CenterCrop(IMG_SIZE),\n",
    "    transforms.ToTensor(), transforms.Normalize(mean,std)\n",
    "])\n",
    "\n",
    "train_ds = datasets.ImageFolder(DATA_ROOT/'train', transform=train_tf)\n",
    "val_ds   = datasets.ImageFolder(DATA_ROOT/'val',   transform=val_tf)\n",
    "test_ds  = datasets.ImageFolder(DATA_ROOT/'test',  transform=val_tf)\n",
    "\n",
    "train_ld = DataLoader(train_ds, batch_size=BATCH, shuffle=True,\n",
    "                      num_workers=4, pin_memory=True)\n",
    "val_ld   = DataLoader(val_ds,   batch_size=BATCH, shuffle=False,\n",
    "                      num_workers=4, pin_memory=True)\n",
    "test_ld  = DataLoader(test_ds,  batch_size=BATCH, shuffle=False,\n",
    "                      num_workers=4, pin_memory=True)\n",
    "\n",
    "print(f\"Samples — train:{len(train_ds)}  val:{len(val_ds)}  test:{len(test_ds)}\")\n"
   ]
  },
  {
   "cell_type": "markdown",
   "id": "8a9a3a46-a9ea-43ef-a802-d7c7bf65007a",
   "metadata": {},
   "source": [
    "Cell 3 — 模型构建（迁移学习）"
   ]
  },
  {
   "cell_type": "code",
   "execution_count": 13,
   "id": "d9176299-d944-4bc4-a76a-54cf691a51bf",
   "metadata": {},
   "outputs": [
    {
     "name": "stderr",
     "output_type": "stream",
     "text": [
      "Downloading: \"https://download.pytorch.org/models/resnet50-11ad3fa6.pth\" to C:\\Users\\Eugen_LNCantientropy/.cache\\torch\\hub\\checkpoints\\resnet50-11ad3fa6.pth\n",
      "100%|█████████████████████████████████████████████████████████████████████████████| 97.8M/97.8M [00:33<00:00, 3.04MB/s]\n"
     ]
    }
   ],
   "source": [
    "model = models.resnet50(weights='IMAGENET1K_V2')\n",
    "model.fc = nn.Linear(model.fc.in_features, 2)\n",
    "model.to(DEVICE)\n",
    "\n",
    "# 冻结除 layer4+fc 以外的层\n",
    "for name, p in model.named_parameters():\n",
    "    p.requires_grad = name.startswith('layer4') or name.startswith('fc')\n",
    "\n",
    "criterion = nn.CrossEntropyLoss()\n",
    "optimizer = optim.Adam((p for p in model.parameters() if p.requires_grad),\n",
    "                       lr=3e-4, weight_decay=1e-4)\n",
    "scheduler = optim.lr_scheduler.CosineAnnealingLR(optimizer, T_max=10, eta_min=3e-6)\n"
   ]
  },
  {
   "cell_type": "markdown",
   "id": "d3235c22-4a6a-4be3-a55c-a01e336bd1db",
   "metadata": {},
   "source": [
    "Cell 4 — 工具函数"
   ]
  },
  {
   "cell_type": "code",
   "execution_count": 14,
   "id": "ca88ac86-4d6a-48da-8300-b463fe41d040",
   "metadata": {},
   "outputs": [],
   "source": [
    "def run_epoch(loader, train=False):\n",
    "    model.train() if train else model.eval()\n",
    "    loss_sum = correct = 0\n",
    "    with torch.set_grad_enabled(train):\n",
    "        for x,y in loader:\n",
    "            x,y = x.to(DEVICE), y.to(DEVICE)\n",
    "            out = model(x)\n",
    "            loss = criterion(out,y)\n",
    "            if train:\n",
    "                optimizer.zero_grad(); loss.backward(); optimizer.step()\n",
    "            loss_sum += loss.item()*x.size(0)\n",
    "            correct  += (out.argmax(1)==y).sum().item()\n",
    "    N=len(loader.dataset)\n",
    "    return loss_sum/N, correct/N\n"
   ]
  },
  {
   "cell_type": "markdown",
   "id": "f6af3cbc-531b-4d24-bf7d-3e5766de7540",
   "metadata": {},
   "source": [
    "Cell 5 — 训练主循环"
   ]
  },
  {
   "cell_type": "code",
   "execution_count": 15,
   "id": "0b3cd99a-bef5-49ea-9ef4-9aea8642a6a3",
   "metadata": {},
   "outputs": [
    {
     "name": "stdout",
     "output_type": "stream",
     "text": [
      "E01  train_acc=86.667%  val_acc=98.485%\n",
      "E02  train_acc=100.000%  val_acc=98.485%\n",
      "E03  train_acc=99.630%  val_acc=100.000%\n",
      "E04  train_acc=100.000%  val_acc=100.000%\n",
      "E05  train_acc=100.000%  val_acc=100.000%\n",
      "E06  train_acc=100.000%  val_acc=100.000%\n",
      "Early stopping triggered.\n"
     ]
    }
   ],
   "source": [
    "EPOCHS, PATIENCE = 10, 3\n",
    "history = {'train_loss':[], 'val_loss':[], 'train_acc':[], 'val_acc':[]}\n",
    "best_acc, patience_cnt = 0, 0\n",
    "\n",
    "for ep in range(1, EPOCHS+1):\n",
    "    tr_loss,tr_acc = run_epoch(train_ld, True)\n",
    "    vl_loss,vl_acc = run_epoch(val_ld,   False)\n",
    "    scheduler.step()\n",
    "\n",
    "    history['train_loss'].append(tr_loss); history['val_loss'].append(vl_loss)\n",
    "    history['train_acc'].append(tr_acc);   history['val_acc'].append(vl_acc)\n",
    "\n",
    "    print(f\"E{ep:02d}  train_acc={tr_acc:.3%}  val_acc={vl_acc:.3%}\")\n",
    "\n",
    "    if vl_acc>best_acc:\n",
    "        best_acc, patience_cnt = vl_acc, 0\n",
    "        torch.save(model.state_dict(),'best_catdog.pth')\n",
    "    else:\n",
    "        patience_cnt += 1\n",
    "        if patience_cnt>=PATIENCE:\n",
    "            print(\"Early stopping triggered.\")\n",
    "            break\n"
   ]
  },
  {
   "cell_type": "markdown",
   "id": "c405a609-f551-4b7a-8784-d5a723eec2e6",
   "metadata": {},
   "source": [
    "Cell 6 — 训练曲线可视化"
   ]
  },
  {
   "cell_type": "code",
   "execution_count": 16,
   "id": "063350e6-d5d1-402e-a91d-d09887a719dc",
   "metadata": {},
   "outputs": [
    {
     "data": {
      "image/png": "[encoded data removed]",
      "text/plain": [
       "<Figure size 1100x400 with 2 Axes>"
      ]
     },
     "metadata": {},
     "output_type": "display_data"
    }
   ],
   "source": [
    "epochs = range(1,len(history['train_loss'])+1)\n",
    "fig,ax = plt.subplots(1,2,figsize=(11,4))\n",
    "ax[0].plot(epochs, history['train_loss'], label='train')\n",
    "ax[0].plot(epochs, history['val_loss'],   label='val')\n",
    "ax[0].set_title('Loss'); ax[0].legend()\n",
    "\n",
    "ax[1].plot(epochs, history['train_acc'], label='train')\n",
    "ax[1].plot(epochs, history['val_acc'],   label='val')\n",
    "ax[1].set_title('Accuracy'); ax[1].legend()\n",
    "plt.show()\n"
   ]
  },
  {
   "cell_type": "code",
   "execution_count": 18,
   "id": "b2a1b9fc-75bb-4cc8-981e-e133c406b29f",
   "metadata": {},
   "outputs": [
    {
     "name": "stdout",
     "output_type": "stream",
     "text": [
      "Test accuracy: 100.00%\n"
     ]
    },
    {
     "data": {
      "image/png": "[encoded data removed]",
      "text/plain": [
       "<Figure size 400x400 with 1 Axes>"
      ]
     },
     "metadata": {},
     "output_type": "display_data"
    },
    {
     "data": {
      "image/png": "[encoded data removed]",
      "text/plain": [
       "<Figure size 500x400 with 1 Axes>"
      ]
     },
     "metadata": {},
     "output_type": "display_data"
    }
   ],
   "source": [
    "import warnings\n",
    "from sklearn.metrics import roc_curve, auc, confusion_matrix, ConfusionMatrixDisplay\n",
    "\n",
    "# ---- 1. 载入最佳权重（仅权重，无执行风险）----\n",
    "with warnings.catch_warnings():        # 静默掉 FutureWarning\n",
    "    warnings.simplefilter('ignore', category=FutureWarning)\n",
    "    model.load_state_dict(torch.load('best_catdog.pth', weights_only=True))\n",
    "\n",
    "model.eval()\n",
    "\n",
    "# ---- 2. 推理获取预测概率 ----\n",
    "y_true, y_prob = [], []\n",
    "with torch.no_grad():\n",
    "    for x, y in test_ld:\n",
    "        logits = model(x.to(DEVICE))\n",
    "        y_prob.extend(logits.softmax(1)[:, 1].cpu().numpy())  # 正类=dog 概率\n",
    "        y_true.extend(y.numpy())\n",
    "\n",
    "y_pred = [1 if p > 0.5 else 0 for p in y_prob]\n",
    "test_acc = (torch.tensor(y_pred) == torch.tensor(y_true)).float().mean().item()\n",
    "print(f\"Test accuracy: {test_acc:.2%}\")\n",
    "\n",
    "# ---- 3. 混淆矩阵 ----\n",
    "cm = confusion_matrix(y_true, y_pred)\n",
    "fig, ax = plt.subplots(figsize=(4, 4))\n",
    "ConfusionMatrixDisplay(cm, display_labels=train_ds.classes).plot(\n",
    "    ax=ax, colorbar=False)\n",
    "ax.set_title(\"Confusion Matrix (Test)\")\n",
    "plt.show()\n",
    "\n",
    "# ---- 4. ROC 曲线 ----\n",
    "fpr, tpr, _ = roc_curve(y_true, y_prob)\n",
    "roc_auc = auc(fpr, tpr)\n",
    "\n",
    "plt.figure(figsize=(5, 4))\n",
    "plt.plot(fpr, tpr, label=f\"AUC = {roc_auc:.3f}\")\n",
    "plt.plot([0, 1], [0, 1], 'k--', linewidth=1)\n",
    "plt.xlabel('False Positive Rate')\n",
    "plt.ylabel('True Positive Rate')\n",
    "plt.title('ROC Curve')\n",
    "plt.legend(loc=\"lower right\")\n",
    "plt.grid(alpha=.3)\n",
    "plt.show()\n"
   ]
  },
  {
   "cell_type": "code",
   "execution_count": null,
   "id": "26250dba-612e-4d41-a199-f31c203c0f99",
   "metadata": {},
   "outputs": [],
   "source": []
  }
 ],
 "metadata": {
  "kernelspec": {
   "display_name": "Python (dl-exp)",
   "language": "python",
   "name": "dl-exp"
  },
  "language_info": {
   "codemirror_mode": {
    "name": "ipython",
    "version": 3
   },
   "file_extension": ".py",
   "mimetype": "text/x-python",
   "name": "python",
   "nbconvert_exporter": "python",
   "pygments_lexer": "ipython3",
   "version": "3.9.21"
  }
 },
 "nbformat": 4,
 "nbformat_minor": 5
}
