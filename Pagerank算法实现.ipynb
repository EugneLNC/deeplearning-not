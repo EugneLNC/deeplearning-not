{
 "cells": [
  {
   "cell_type": "code",
   "execution_count": 1,
   "id": "8311798f-07bc-405b-a4cc-2eccd70f26a6",
   "metadata": {},
   "outputs": [
    {
     "name": "stdout",
     "output_type": "stream",
     "text": [
      "Transition matrix P:\n",
      " [[0.         0.5        0.5        0.         0.         0.        ]\n",
      " [0.33333333 0.         0.         0.5        0.         0.        ]\n",
      " [0.33333333 0.         0.         0.         1.         0.        ]\n",
      " [0.         0.         0.5        0.         0.         0.5       ]\n",
      " [0.         0.         0.         0.5        0.         0.5       ]\n",
      " [0.33333333 0.5        0.         0.         0.         0.        ]]\n"
     ]
    }
   ],
   "source": [
    "# Cell 1 — 导入依赖 & 构造示例图\n",
    "import numpy as np\n",
    "import matplotlib.pyplot as plt\n",
    "\n",
    "# 随机种子保证实验可复现\n",
    "np.random.seed(42)\n",
    "\n",
    "# 假设有 6 个网页，编号 0–5，手动构造它们之间的超链接关系\n",
    "# adjacency[i,j]=1 表示 j 指向 i（列 j 是出度向下指向的所有行）\n",
    "A = np.array([\n",
    "    [0,1,1,0,0,0],  # 页面 0 被 1,2 指向\n",
    "    [1,0,0,1,0,0],  # 页面 1 被 0,3 指向\n",
    "    [1,0,0,0,1,0],  # 页面 2 被 0,4 指向\n",
    "    [0,0,1,0,0,1],  # 页面 3 被 2,5 指向\n",
    "    [0,0,0,1,0,1],  # 页面 4 被 3,5 指向\n",
    "    [1,1,0,0,0,0],  # 页面 5 被 0,1 指向\n",
    "], dtype=float)\n",
    "\n",
    "# 计算每列（出度）和，将零出度的列视作“跳转到所有节点”\n",
    "out_deg = A.sum(axis=0)\n",
    "dangling = (out_deg == 0)\n",
    "# 构造转移概率矩阵 P：P[i,j] = 概率从 j 跳到 i\n",
    "P = np.zeros_like(A)\n",
    "for j in range(A.shape[1]):\n",
    "    if dangling[j]:\n",
    "        P[:,j] = 1.0 / A.shape[0]\n",
    "    else:\n",
    "        P[:,j] = A[:,j] / out_deg[j]\n",
    "\n",
    "print(\"Transition matrix P:\\n\", P)\n"
   ]
  },
  {
   "cell_type": "code",
   "execution_count": 2,
   "id": "3cf11e9f-807d-4625-9541-2eb16b3413c2",
   "metadata": {},
   "outputs": [
    {
     "name": "stdout",
     "output_type": "stream",
     "text": [
      "Converged in 18 iterations (L1 error=6.77e-07)\n",
      "PageRank scores:\n",
      " [0.17651143 0.14818724 0.20831025 0.17217801 0.1568219  0.13799118]\n"
     ]
    }
   ],
   "source": [
    "# Cell 2 — Power iteration 计算 PageRank\n",
    "def pagerank(P, alpha=0.85, tol=1e-6, maxiter=100):\n",
    "    \"\"\"\n",
    "    输入：\n",
    "      P       转移概率矩阵 [N×N]\n",
    "      alpha   阻尼因子（跳出概率）\n",
    "      tol     收敛阈值\n",
    "      maxiter 最大迭代轮数\n",
    "    输出：\n",
    "      r       PageRank 向量 [N]\n",
    "    \"\"\"\n",
    "    N = P.shape[0]\n",
    "    # 初始化 r 为均匀分布\n",
    "    r = np.ones(N) / N\n",
    "    # Google 矩阵 G = αP + (1−α)(1/N)11^T\n",
    "    teleport = np.ones((N,N)) / N\n",
    "    G = alpha * P + (1 - alpha) * teleport\n",
    "\n",
    "    for it in range(1, maxiter+1):\n",
    "        r_new = G @ r\n",
    "        err = np.linalg.norm(r_new - r, 1)\n",
    "        r = r_new\n",
    "        if err < tol:\n",
    "            print(f\"Converged in {it} iterations (L1 error={err:.2e})\")\n",
    "            break\n",
    "    return r\n",
    "\n",
    "# 运行 PageRank\n",
    "r = pagerank(P, alpha=0.85)\n",
    "print(\"PageRank scores:\\n\", r)\n"
   ]
  },
  {
   "cell_type": "code",
   "execution_count": 3,
   "id": "a978b3c4-4838-4f20-b36a-71b33020528b",
   "metadata": {},
   "outputs": [
    {
     "data": {
      "image/png": "[encoded data removed]",
      "text/plain": [
       "<Figure size 600x400 with 1 Axes>"
      ]
     },
     "metadata": {},
     "output_type": "display_data"
    }
   ],
   "source": [
    "# Cell 3 — 可视化 PageRank 排名\n",
    "indices = np.arange(len(r))\n",
    "plt.figure(figsize=(6,4))\n",
    "plt.bar(indices, r, color='skyblue')\n",
    "plt.xticks(indices)\n",
    "plt.xlabel(\"Page index\")\n",
    "plt.ylabel(\"PageRank score\")\n",
    "plt.title(\"PageRank of sample web graph\")\n",
    "plt.show()\n"
   ]
  },
  {
   "cell_type": "code",
   "execution_count": null,
   "id": "0193212b-e3ae-48f4-b489-481e25a14bda",
   "metadata": {},
   "outputs": [],
   "source": []
  }
 ],
 "metadata": {
  "kernelspec": {
   "display_name": "Python (dl-exp)",
   "language": "python",
   "name": "dl-exp"
  },
  "language_info": {
   "codemirror_mode": {
    "name": "ipython",
    "version": 3
   },
   "file_extension": ".py",
   "mimetype": "text/x-python",
   "name": "python",
   "nbconvert_exporter": "python",
   "pygments_lexer": "ipython3",
   "version": "3.9.21"
  }
 },
 "nbformat": 4,
 "nbformat_minor": 5
}
