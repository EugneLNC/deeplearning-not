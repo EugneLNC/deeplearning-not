{
 "cells": [
  {
   "cell_type": "code",
   "execution_count": 1,
   "id": "81109b1e-7296-4b92-b33d-cff9bc8c75fd",
   "metadata": {},
   "outputs": [
    {
     "name": "stdout",
     "output_type": "stream",
     "text": [
      "Converged in 16 iterations (λ ≈ 4.326959)\n",
      "Estimated principal eigenvalue: 4.32695939386406\n",
      "Estimated eigenvector: [ 0.70954407 -0.01720735  0.21350656  0.28022047  0.59954375 -0.11264926]\n",
      "Residual ||A v - λ v|| = 0.0003791211451304797\n"
     ]
    }
   ],
   "source": [
    "# Cell 1 — Power Method: 计算矩阵的主特征值与特征向量\n",
    "\n",
    "import numpy as np\n",
    "\n",
    "# 1) 构造一个对称矩阵 A（保证实特征值）\n",
    "np.random.seed(0)\n",
    "n = 6\n",
    "M = np.random.randn(n, n)\n",
    "A = (M + M.T) / 2  # 对称化\n",
    "\n",
    "# 2) Power Method 实现\n",
    "def power_method(A, num_iterations=1000, tol=1e-6):\n",
    "    \"\"\"\n",
    "    求矩阵 A 的主特征值 λ 和对应特征向量 v\n",
    "    输入:\n",
    "      A: 方阵 [n×n]\n",
    "      num_iterations: 最大迭代次数\n",
    "      tol: 收敛阈值 (||v_new - v_old||)\n",
    "    返回:\n",
    "      λ: 主特征值\n",
    "      v: 归一化后的主特征向量\n",
    "    \"\"\"\n",
    "    n = A.shape[0]\n",
    "    # 随机初始化向量，并归一化\n",
    "    v = np.random.randn(n)\n",
    "    v = v / np.linalg.norm(v)\n",
    "    λ_old = 0.0\n",
    "\n",
    "    for it in range(1, num_iterations+1):\n",
    "        # 计算 A v\n",
    "        w = A.dot(v)\n",
    "        # 估计特征值：Rayleigh 商\n",
    "        λ = v.dot(w)\n",
    "        # 归一化得到新向量\n",
    "        v = w / np.linalg.norm(w)\n",
    "        # 检查收敛\n",
    "        if abs(λ - λ_old) < tol:\n",
    "            print(f\"Converged in {it} iterations (λ ≈ {λ:.6f})\")\n",
    "            break\n",
    "        λ_old = λ\n",
    "    return λ, v\n",
    "\n",
    "# 3) 运行 Power Method\n",
    "λ, v = power_method(A)\n",
    "print(\"Estimated principal eigenvalue:\", λ)\n",
    "print(\"Estimated eigenvector:\", v)\n",
    "\n",
    "# 4) 验证：A v ≈ λ v\n",
    "print(\"Residual ||A v - λ v|| =\", np.linalg.norm(A.dot(v) - λ*v))\n"
   ]
  },
  {
   "cell_type": "code",
   "execution_count": null,
   "id": "318b513d-efcd-4f97-a689-01ae4290d787",
   "metadata": {},
   "outputs": [],
   "source": []
  }
 ],
 "metadata": {
  "kernelspec": {
   "display_name": "Python (dl-exp)",
   "language": "python",
   "name": "dl-exp"
  },
  "language_info": {
   "codemirror_mode": {
    "name": "ipython",
    "version": 3
   },
   "file_extension": ".py",
   "mimetype": "text/x-python",
   "name": "python",
   "nbconvert_exporter": "python",
   "pygments_lexer": "ipython3",
   "version": "3.9.21"
  }
 },
 "nbformat": 4,
 "nbformat_minor": 5
}
