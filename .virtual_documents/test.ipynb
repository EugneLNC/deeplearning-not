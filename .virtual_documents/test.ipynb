import torch, torchvision, sys, subprocess, json, platform

print("torch  :", torch.__version__)
print("torchvision:", torchvision.__version__)
print("CUDA visible:", torch.cuda.is_available(), "runtime", torch.version.cuda)
print("Device count:", torch.cuda.device_count())





