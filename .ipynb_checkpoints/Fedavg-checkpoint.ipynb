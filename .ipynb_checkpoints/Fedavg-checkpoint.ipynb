{
 "cells": [
  {
   "cell_type": "markdown",
   "id": "02cd5fd7-fca8-4c6b-9444-fa718faabc9b",
   "metadata": {},
   "source": [
    "依赖导入与设备检测"
   ]
  },
  {
   "cell_type": "code",
   "execution_count": 1,
   "id": "5b2ebde9-31d9-4898-b9a9-b023a6843147",
   "metadata": {},
   "outputs": [
    {
     "name": "stderr",
     "output_type": "stream",
     "text": [
      "E:\\python\\anaconda\\envs\\dl-exp\\lib\\site-packages\\tqdm\\auto.py:21: TqdmWarning: IProgress not found. Please update jupyter and ipywidgets. See https://ipywidgets.readthedocs.io/en/stable/user_install.html\n",
      "  from .autonotebook import tqdm as notebook_tqdm\n",
      "2025-05-25 15:16:09,469\tINFO util.py:154 -- Missing packages: ['ipywidgets']. Run `pip install -U ipywidgets`, then restart the notebook server for rich notebook output.\n"
     ]
    },
    {
     "name": "stdout",
     "output_type": "stream",
     "text": [
      "Device: cuda Flower: 1.18.0\n"
     ]
    }
   ],
   "source": [
    "import warnings, time, json, copy\n",
    "from pathlib import Path\n",
    "import numpy as np\n",
    "import matplotlib.pyplot as plt\n",
    "plt.style.use(\"ggplot\")\n",
    "import  os\n",
    "   \n",
    "\n",
    "import torch, torch.nn as nn, torch.optim as optim\n",
    "from torch.utils.data import DataLoader, Subset\n",
    "from torchvision import datasets, transforms\n",
    "import flwr as fl\n",
    "from sklearn.metrics import confusion_matrix, ConfusionMatrixDisplay, roc_auc_score\n",
    "\n",
    "DEVICE = torch.device(\"cuda\" if torch.cuda.is_available() else \"cpu\")\n",
    "print(\"Device:\", DEVICE, \"Flower:\", fl.__version__)\n",
    "warnings.filterwarnings(\"ignore\", category=UserWarning, module=\"flwr\")\n",
    "os.environ[\"FLWR_TELEMETRY_ENABLED\"] = \"0\"  # 关掉 Flower 统计"
   ]
  },
  {
   "cell_type": "markdown",
   "id": "3ca37da4-bd9c-4db9-ba96-5cd28ae3142e",
   "metadata": {},
   "source": [
    "数据切分函数"
   ]
  },
  {
   "cell_type": "code",
   "execution_count": 2,
   "id": "15729cbb-56ae-487c-b8ce-ea258ba64174",
   "metadata": {},
   "outputs": [],
   "source": [
    "def get_dataloaders(cid: int, num_clients: int, batch=32):\n",
    "    tf = transforms.Compose([transforms.ToTensor(),\n",
    "                             transforms.Normalize((0.1307,), (0.3081,))])\n",
    "    mnist_tr = datasets.MNIST(\"data\", train=True,  download=True, transform=tf)\n",
    "    mnist_te = datasets.MNIST(\"data\", train=False, download=True, transform=tf)\n",
    "\n",
    "    shard = len(mnist_tr) // num_clients\n",
    "    subset = Subset(mnist_tr, range(cid*shard, (cid+1)*shard))\n",
    "\n",
    "    return (DataLoader(subset, batch, shuffle=True),\n",
    "            DataLoader(mnist_te, 256, shuffle=False))\n"
   ]
  },
  {
   "cell_type": "markdown",
   "id": "7d7d19b3-51b1-4604-ae4e-ec695c977b6a",
   "metadata": {},
   "source": [
    "模型定义"
   ]
  },
  {
   "cell_type": "code",
   "execution_count": 3,
   "id": "c7246be6-c1e5-4d6c-897b-2e7dae42d9da",
   "metadata": {},
   "outputs": [],
   "source": [
    "class SimpleCNN(nn.Module):\n",
    "    def __init__(self):\n",
    "        super().__init__()\n",
    "        self.conv1 = nn.Conv2d(1,32,3,1)\n",
    "        self.conv2 = nn.Conv2d(32,64,3,1)\n",
    "        self.fc1   = nn.Linear(9216,128)\n",
    "        self.fc2   = nn.Linear(128,10)\n",
    "    def forward(self,x):\n",
    "        x = nn.functional.relu(self.conv1(x))\n",
    "        x = nn.functional.relu(self.conv2(x))\n",
    "        x = nn.functional.max_pool2d(x,2)\n",
    "        x = torch.flatten(x,1)\n",
    "        x = nn.functional.relu(self.fc1(x))\n",
    "        return self.fc2(x)\n"
   ]
  },
  {
   "cell_type": "markdown",
   "id": "7f59e252-7744-4999-adca-5db978b889b5",
   "metadata": {},
   "source": [
    "Flower 客户端工厂"
   ]
  },
  {
   "cell_type": "code",
   "execution_count": 4,
   "id": "34081de5-8348-430a-9352-7ec56fc821eb",
   "metadata": {},
   "outputs": [],
   "source": [
    "NUM_CLIENTS = 5\n",
    "LOCAL_EPOCH = 1\n",
    "LR = 1e-3\n",
    "\n",
    "class FlowerClient(fl.client.NumPyClient):\n",
    "    def __init__(self, cid: int):\n",
    "        self.cid = cid\n",
    "        self.train_ld, self.test_ld = get_dataloaders(cid, NUM_CLIENTS)\n",
    "        self.net = SimpleCNN().to(DEVICE)\n",
    "        self.opt = optim.Adam(self.net.parameters(), lr=LR)\n",
    "\n",
    "    # ------ required three methods ------\n",
    "    def get_parameters(self, config=None):\n",
    "        return [p.cpu().numpy() for p in self.net.state_dict().values()]\n",
    "\n",
    "    def fit(self, parameters, config=None):\n",
    "        self.set_parameters(parameters)\n",
    "        self.net.train()\n",
    "        for _ in range(LOCAL_EPOCH):\n",
    "            for x,y in self.train_ld:\n",
    "                x,y = x.to(DEVICE), y.to(DEVICE)\n",
    "                loss = nn.CrossEntropyLoss()(self.net(x), y)\n",
    "                self.opt.zero_grad(); loss.backward(); self.opt.step()\n",
    "        return self.get_parameters(), len(self.train_ld.dataset), {}\n",
    "\n",
    "    def evaluate(self, parameters, config=None):\n",
    "        self.set_parameters(parameters)\n",
    "        self.net.eval(); correct = 0; loss_sum = 0\n",
    "        with torch.no_grad():\n",
    "            for x,y in self.test_ld:\n",
    "                x,y = x.to(DEVICE), y.to(DEVICE)\n",
    "                out = self.net(x)\n",
    "                loss_sum += nn.CrossEntropyLoss()(out,y).item()*x.size(0)\n",
    "                correct  += (out.argmax(1)==y).sum().item()\n",
    "        n = len(self.test_ld.dataset)\n",
    "        return loss_sum/n, n, {\"accuracy\": correct/n}\n",
    "\n",
    "    # helper\n",
    "    def set_parameters(self, params):\n",
    "        state = dict(zip(self.net.state_dict().keys(),\n",
    "                         [torch.tensor(p) for p in params]))\n",
    "        self.net.load_state_dict(state, strict=True)\n"
   ]
  },
  {
   "cell_type": "markdown",
   "id": "6d806360-4644-4d3b-a6e8-05115c227b03",
   "metadata": {},
   "source": [
    "自定义策略（保存每轮指标 & 最终权重）"
   ]
  },
  {
   "cell_type": "code",
   "execution_count": 7,
   "id": "9a2b99bd-8248-4133-82a5-9ff7477991de",
   "metadata": {},
   "outputs": [],
   "source": [
    "# ---------- 客户端工厂 ----------\n",
    "def client_fn(cid: str):\n",
    "    return FlowerClient(int(cid)).to_client()   # 注意 to_client()\n",
    "\n",
    "def agg_metrics(eval_metrics):\n",
    "    \"\"\"\n",
    "    eval_metrics: list of (num_examples, metrics_dict)\n",
    "    返回整体加权平均 accuracy\n",
    "    \"\"\"\n",
    "    if not eval_metrics:                      # 边界保护\n",
    "        return {\"accuracy\": 0.0}\n",
    "\n",
    "    total_examples = sum(num for num, _ in eval_metrics)\n",
    "    acc = sum(num * m[\"accuracy\"] for num, m in eval_metrics) / total_examples\n",
    "    return {\"accuracy\": acc}\n",
    "\n",
    "\n",
    "# ---------- 自定义策略 ----------\n",
    "class RecordFedAvg(fl.server.strategy.FedAvg):\n",
    "    def __init__(self, **kwargs):\n",
    "        super().__init__(**kwargs)\n",
    "        self.hist_acc, self.hist_loss = [], []\n",
    "        self.final_params = None\n",
    "\n",
    "    def aggregate_evaluate(self, rnd, results, failures):\n",
    "        agg_loss, metrics = super().aggregate_evaluate(rnd, results, failures)\n",
    "        if agg_loss is not None:\n",
    "            # metrics 已是 {\"accuracy\": …}，不会再 KeyError\n",
    "            self.hist_loss.append(agg_loss)\n",
    "            self.hist_acc.append(metrics[\"accuracy\"])\n",
    "        return agg_loss, metrics\n",
    "\n",
    "    def aggregate_fit(self, rnd, results, failures):\n",
    "        params, metrics = super().aggregate_fit(rnd, results, failures)\n",
    "        if params is not None:\n",
    "            self.final_params = params\n",
    "        return params, metrics\n",
    "\n",
    "# ---------- 实例化策略 ----------\n",
    "strategy = RecordFedAvg(\n",
    "    fraction_fit          = 1.0,\n",
    "    fraction_evaluate     = 1.0,\n",
    "    min_fit_clients       = NUM_CLIENTS,\n",
    "    min_evaluate_clients  = NUM_CLIENTS,\n",
    "    min_available_clients = NUM_CLIENTS,\n",
    "    evaluate_metrics_aggregation_fn = agg_metrics,  # 把函数传进来\n",
    ")\n"
   ]
  },
  {
   "cell_type": "markdown",
   "id": "c849e7a8-3656-4fa3-a308-3e68905d294e",
   "metadata": {},
   "source": [
    "单机模拟"
   ]
  },
  {
   "cell_type": "code",
   "execution_count": 8,
   "id": "d16b9f43-4945-4538-b69c-14bfd63b8ac2",
   "metadata": {},
   "outputs": [
    {
     "name": "stderr",
     "output_type": "stream",
     "text": [
      "\u001b[93mWARNING \u001b[0m:   DEPRECATED FEATURE: flwr.simulation.start_simulation() is deprecated.\n",
      "\tInstead, use the `flwr run` CLI command to start a local simulation in your Flower app, as shown for example below:\n",
      "\n",
      "\t\t$ flwr new  # Create a new Flower app from a template\n",
      "\n",
      "\t\t$ flwr run  # Run the Flower app in Simulation Mode\n",
      "\n",
      "\tUsing `start_simulation()` is deprecated.\n",
      "\n",
      "            This is a deprecated feature. It will be removed\n",
      "            entirely in future versions of Flower.\n",
      "        \n",
      "\u001b[92mINFO \u001b[0m:      Starting Flower simulation, config: num_rounds=5, no round_timeout\n",
      "2025-05-25 15:20:49,907\tINFO worker.py:1771 -- Started a local Ray instance.\n",
      "\u001b[92mINFO \u001b[0m:      Flower VCE: Ray initialized with resources: {'accelerator_type:G': 1.0, 'node:__internal_head__': 1.0, 'CPU': 20.0, 'memory': 4837355520.0, 'node:127.0.0.1': 1.0, 'object_store_memory': 2418677760.0, 'GPU': 1.0}\n",
      "\u001b[92mINFO \u001b[0m:      Optimize your simulation with Flower VCE: https://flower.ai/docs/framework/how-to-run-simulations.html\n",
      "\u001b[92mINFO \u001b[0m:      Flower VCE: Resources for each Virtual Client: {'num_cpus': 1, 'num_gpus': 0.0}\n",
      "\u001b[92mINFO \u001b[0m:      Flower VCE: Creating VirtualClientEngineActorPool with 20 actors\n",
      "\u001b[92mINFO \u001b[0m:      [INIT]\n",
      "\u001b[92mINFO \u001b[0m:      Requesting initial parameters from one random client\n",
      "\u001b[36m(ClientAppActor pid=17368)\u001b[0m \u001b[93mWARNING \u001b[0m:   DEPRECATED FEATURE: `client_fn` now expects a signature `def client_fn(context: Context)`.The provided `client_fn` has signature: {'cid': <Parameter \"cid: str\">}. You can import the `Context` like this: `from flwr.common import Context`\n",
      "\u001b[36m(ClientAppActor pid=17368)\u001b[0m \n",
      "\u001b[36m(ClientAppActor pid=17368)\u001b[0m             This is a deprecated feature. It will be removed\n",
      "\u001b[36m(ClientAppActor pid=17368)\u001b[0m             entirely in future versions of Flower.\n",
      "\u001b[36m(ClientAppActor pid=17368)\u001b[0m         \n",
      "\u001b[92mINFO \u001b[0m:      Received initial parameters from one random client\n",
      "\u001b[92mINFO \u001b[0m:      Starting evaluation of initial global parameters\n",
      "\u001b[92mINFO \u001b[0m:      Evaluation returned no results (`None`)\n",
      "\u001b[92mINFO \u001b[0m:      \n",
      "\u001b[92mINFO \u001b[0m:      [ROUND 1]\n",
      "\u001b[92mINFO \u001b[0m:      configure_fit: strategy sampled 5 clients (out of 5)\n",
      "\u001b[36m(ClientAppActor pid=17368)\u001b[0m \u001b[93mWARNING \u001b[0m:   DEPRECATED FEATURE: `client_fn` now expects a signature `def client_fn(context: Context)`.The provided `client_fn` has signature: {'cid': <Parameter \"cid: str\">}. You can import the `Context` like this: `from flwr.common import Context`\n",
      "\u001b[36m(ClientAppActor pid=17368)\u001b[0m \n",
      "\u001b[36m(ClientAppActor pid=17368)\u001b[0m             This is a deprecated feature. It will be removed\n",
      "\u001b[36m(ClientAppActor pid=17368)\u001b[0m             entirely in future versions of Flower.\n",
      "\u001b[36m(ClientAppActor pid=17368)\u001b[0m         \n",
      "\u001b[36m(ClientAppActor pid=23312)\u001b[0m \n",
      "\u001b[36m(ClientAppActor pid=23312)\u001b[0m         \n",
      "\u001b[36m(ClientAppActor pid=20928)\u001b[0m \n",
      "\u001b[36m(ClientAppActor pid=20928)\u001b[0m         \n",
      "\u001b[36m(ClientAppActor pid=24920)\u001b[0m \n",
      "\u001b[36m(ClientAppActor pid=24920)\u001b[0m         \n",
      "\u001b[36m(ClientAppActor pid=7596)\u001b[0m \n",
      "\u001b[36m(ClientAppActor pid=7596)\u001b[0m         \n",
      "\u001b[92mINFO \u001b[0m:      aggregate_fit: received 5 results and 0 failures\n",
      "\u001b[93mWARNING \u001b[0m:   No fit_metrics_aggregation_fn provided\n",
      "\u001b[92mINFO \u001b[0m:      configure_evaluate: strategy sampled 5 clients (out of 5)\n",
      "\u001b[36m(ClientAppActor pid=23312)\u001b[0m \n",
      "\u001b[36m(ClientAppActor pid=23312)\u001b[0m         \n",
      "\u001b[36m(ClientAppActor pid=23312)\u001b[0m \u001b[93mWARNING \u001b[0m:   DEPRECATED FEATURE: `client_fn` now expects a signature `def client_fn(context: Context)`.The provided `client_fn` has signature: {'cid': <Parameter \"cid: str\">}. You can import the `Context` like this: `from flwr.common import Context`\u001b[32m [repeated 5x across cluster]\u001b[0m\n",
      "\u001b[36m(ClientAppActor pid=23312)\u001b[0m             This is a deprecated feature. It will be removed\u001b[32m [repeated 5x across cluster]\u001b[0m\n",
      "\u001b[36m(ClientAppActor pid=23312)\u001b[0m             entirely in future versions of Flower.\u001b[32m [repeated 5x across cluster]\u001b[0m\n",
      "\u001b[36m(ClientAppActor pid=24920)\u001b[0m \n",
      "\u001b[36m(ClientAppActor pid=24920)\u001b[0m         \n",
      "\u001b[36m(ClientAppActor pid=20928)\u001b[0m \n",
      "\u001b[36m(ClientAppActor pid=20928)\u001b[0m         \n",
      "\u001b[36m(ClientAppActor pid=7596)\u001b[0m \n",
      "\u001b[36m(ClientAppActor pid=7596)\u001b[0m         \n",
      "\u001b[36m(ClientAppActor pid=17368)\u001b[0m \n",
      "\u001b[36m(ClientAppActor pid=17368)\u001b[0m         \n",
      "\u001b[92mINFO \u001b[0m:      aggregate_evaluate: received 5 results and 0 failures\n",
      "\u001b[92mINFO \u001b[0m:      \n",
      "\u001b[92mINFO \u001b[0m:      [ROUND 2]\n",
      "\u001b[92mINFO \u001b[0m:      configure_fit: strategy sampled 5 clients (out of 5)\n",
      "\u001b[36m(ClientAppActor pid=17368)\u001b[0m \n",
      "\u001b[36m(ClientAppActor pid=17368)\u001b[0m         \n",
      "\u001b[36m(ClientAppActor pid=7596)\u001b[0m \n",
      "\u001b[36m(ClientAppActor pid=7596)\u001b[0m         \n",
      "\u001b[36m(ClientAppActor pid=23312)\u001b[0m \n",
      "\u001b[36m(ClientAppActor pid=23312)\u001b[0m         \n",
      "\u001b[36m(ClientAppActor pid=24920)\u001b[0m \n",
      "\u001b[36m(ClientAppActor pid=24920)\u001b[0m         \n",
      "\u001b[36m(ClientAppActor pid=20928)\u001b[0m \n",
      "\u001b[36m(ClientAppActor pid=20928)\u001b[0m         \n",
      "\u001b[92mINFO \u001b[0m:      aggregate_fit: received 5 results and 0 failures\n",
      "\u001b[92mINFO \u001b[0m:      configure_evaluate: strategy sampled 5 clients (out of 5)\n",
      "\u001b[36m(ClientAppActor pid=24920)\u001b[0m \n",
      "\u001b[36m(ClientAppActor pid=24920)\u001b[0m         \n",
      "\u001b[36m(ClientAppActor pid=24920)\u001b[0m \u001b[93mWARNING \u001b[0m:   DEPRECATED FEATURE: `client_fn` now expects a signature `def client_fn(context: Context)`.The provided `client_fn` has signature: {'cid': <Parameter \"cid: str\">}. You can import the `Context` like this: `from flwr.common import Context`\u001b[32m [repeated 10x across cluster]\u001b[0m\n",
      "\u001b[36m(ClientAppActor pid=24920)\u001b[0m             This is a deprecated feature. It will be removed\u001b[32m [repeated 10x across cluster]\u001b[0m\n",
      "\u001b[36m(ClientAppActor pid=24920)\u001b[0m             entirely in future versions of Flower.\u001b[32m [repeated 10x across cluster]\u001b[0m\n",
      "\u001b[36m(ClientAppActor pid=20928)\u001b[0m \n",
      "\u001b[36m(ClientAppActor pid=20928)\u001b[0m         \n",
      "\u001b[36m(ClientAppActor pid=23312)\u001b[0m \n",
      "\u001b[36m(ClientAppActor pid=23312)\u001b[0m         \n",
      "\u001b[36m(ClientAppActor pid=17368)\u001b[0m \n",
      "\u001b[36m(ClientAppActor pid=17368)\u001b[0m         \n",
      "\u001b[36m(ClientAppActor pid=7596)\u001b[0m \n",
      "\u001b[36m(ClientAppActor pid=7596)\u001b[0m         \n",
      "\u001b[92mINFO \u001b[0m:      aggregate_evaluate: received 5 results and 0 failures\n",
      "\u001b[92mINFO \u001b[0m:      \n",
      "\u001b[92mINFO \u001b[0m:      [ROUND 3]\n",
      "\u001b[92mINFO \u001b[0m:      configure_fit: strategy sampled 5 clients (out of 5)\n",
      "\u001b[36m(ClientAppActor pid=23312)\u001b[0m \n",
      "\u001b[36m(ClientAppActor pid=23312)\u001b[0m         \n",
      "\u001b[36m(ClientAppActor pid=17368)\u001b[0m \n",
      "\u001b[36m(ClientAppActor pid=17368)\u001b[0m         \n",
      "\u001b[36m(ClientAppActor pid=24920)\u001b[0m \n",
      "\u001b[36m(ClientAppActor pid=24920)\u001b[0m         \n",
      "\u001b[36m(ClientAppActor pid=20928)\u001b[0m \n",
      "\u001b[36m(ClientAppActor pid=20928)\u001b[0m         \n",
      "\u001b[36m(ClientAppActor pid=7596)\u001b[0m \n",
      "\u001b[36m(ClientAppActor pid=7596)\u001b[0m         \n",
      "\u001b[92mINFO \u001b[0m:      aggregate_fit: received 5 results and 0 failures\n",
      "\u001b[92mINFO \u001b[0m:      configure_evaluate: strategy sampled 5 clients (out of 5)\n",
      "\u001b[36m(ClientAppActor pid=23312)\u001b[0m \n",
      "\u001b[36m(ClientAppActor pid=23312)\u001b[0m         \n",
      "\u001b[36m(ClientAppActor pid=23312)\u001b[0m \u001b[93mWARNING \u001b[0m:   DEPRECATED FEATURE: `client_fn` now expects a signature `def client_fn(context: Context)`.The provided `client_fn` has signature: {'cid': <Parameter \"cid: str\">}. You can import the `Context` like this: `from flwr.common import Context`\u001b[32m [repeated 10x across cluster]\u001b[0m\n",
      "\u001b[36m(ClientAppActor pid=23312)\u001b[0m             This is a deprecated feature. It will be removed\u001b[32m [repeated 10x across cluster]\u001b[0m\n",
      "\u001b[36m(ClientAppActor pid=23312)\u001b[0m             entirely in future versions of Flower.\u001b[32m [repeated 10x across cluster]\u001b[0m\n",
      "\u001b[36m(ClientAppActor pid=24920)\u001b[0m \n",
      "\u001b[36m(ClientAppActor pid=24920)\u001b[0m         \n",
      "\u001b[36m(ClientAppActor pid=20928)\u001b[0m \n",
      "\u001b[36m(ClientAppActor pid=20928)\u001b[0m         \n",
      "\u001b[36m(ClientAppActor pid=7596)\u001b[0m \n",
      "\u001b[36m(ClientAppActor pid=7596)\u001b[0m         \n",
      "\u001b[36m(ClientAppActor pid=17368)\u001b[0m \n",
      "\u001b[36m(ClientAppActor pid=17368)\u001b[0m         \n",
      "\u001b[92mINFO \u001b[0m:      aggregate_evaluate: received 5 results and 0 failures\n",
      "\u001b[92mINFO \u001b[0m:      \n",
      "\u001b[92mINFO \u001b[0m:      [ROUND 4]\n",
      "\u001b[92mINFO \u001b[0m:      configure_fit: strategy sampled 5 clients (out of 5)\n",
      "\u001b[36m(ClientAppActor pid=24920)\u001b[0m \n",
      "\u001b[36m(ClientAppActor pid=24920)\u001b[0m         \n",
      "\u001b[36m(ClientAppActor pid=17368)\u001b[0m \n",
      "\u001b[36m(ClientAppActor pid=17368)\u001b[0m         \n",
      "\u001b[36m(ClientAppActor pid=23312)\u001b[0m \n",
      "\u001b[36m(ClientAppActor pid=23312)\u001b[0m         \n",
      "\u001b[36m(ClientAppActor pid=20928)\u001b[0m \n",
      "\u001b[36m(ClientAppActor pid=20928)\u001b[0m         \n",
      "\u001b[36m(ClientAppActor pid=7596)\u001b[0m \n",
      "\u001b[36m(ClientAppActor pid=7596)\u001b[0m         \n",
      "\u001b[92mINFO \u001b[0m:      aggregate_fit: received 5 results and 0 failures\n",
      "\u001b[92mINFO \u001b[0m:      configure_evaluate: strategy sampled 5 clients (out of 5)\n",
      "\u001b[36m(ClientAppActor pid=23312)\u001b[0m \n",
      "\u001b[36m(ClientAppActor pid=23312)\u001b[0m         \n",
      "\u001b[36m(ClientAppActor pid=23312)\u001b[0m \u001b[93mWARNING \u001b[0m:   DEPRECATED FEATURE: `client_fn` now expects a signature `def client_fn(context: Context)`.The provided `client_fn` has signature: {'cid': <Parameter \"cid: str\">}. You can import the `Context` like this: `from flwr.common import Context`\u001b[32m [repeated 10x across cluster]\u001b[0m\n",
      "\u001b[36m(ClientAppActor pid=23312)\u001b[0m             This is a deprecated feature. It will be removed\u001b[32m [repeated 10x across cluster]\u001b[0m\n",
      "\u001b[36m(ClientAppActor pid=23312)\u001b[0m             entirely in future versions of Flower.\u001b[32m [repeated 10x across cluster]\u001b[0m\n",
      "\u001b[36m(ClientAppActor pid=17368)\u001b[0m \n",
      "\u001b[36m(ClientAppActor pid=17368)\u001b[0m         \n",
      "\u001b[36m(ClientAppActor pid=24920)\u001b[0m \n",
      "\u001b[36m(ClientAppActor pid=24920)\u001b[0m         \n",
      "\u001b[36m(ClientAppActor pid=20928)\u001b[0m \n",
      "\u001b[36m(ClientAppActor pid=20928)\u001b[0m         \n",
      "\u001b[36m(ClientAppActor pid=7596)\u001b[0m \n",
      "\u001b[36m(ClientAppActor pid=7596)\u001b[0m         \n",
      "\u001b[92mINFO \u001b[0m:      aggregate_evaluate: received 5 results and 0 failures\n",
      "\u001b[92mINFO \u001b[0m:      \n",
      "\u001b[92mINFO \u001b[0m:      [ROUND 5]\n",
      "\u001b[92mINFO \u001b[0m:      configure_fit: strategy sampled 5 clients (out of 5)\n",
      "\u001b[36m(ClientAppActor pid=23312)\u001b[0m \n",
      "\u001b[36m(ClientAppActor pid=23312)\u001b[0m         \n",
      "\u001b[36m(ClientAppActor pid=17368)\u001b[0m \n",
      "\u001b[36m(ClientAppActor pid=17368)\u001b[0m         \n",
      "\u001b[36m(ClientAppActor pid=24920)\u001b[0m \n",
      "\u001b[36m(ClientAppActor pid=24920)\u001b[0m         \n",
      "\u001b[36m(ClientAppActor pid=20928)\u001b[0m \n",
      "\u001b[36m(ClientAppActor pid=20928)\u001b[0m         \n",
      "\u001b[36m(ClientAppActor pid=7596)\u001b[0m \n",
      "\u001b[36m(ClientAppActor pid=7596)\u001b[0m         \n",
      "\u001b[92mINFO \u001b[0m:      aggregate_fit: received 5 results and 0 failures\n",
      "\u001b[92mINFO \u001b[0m:      configure_evaluate: strategy sampled 5 clients (out of 5)\n",
      "\u001b[36m(ClientAppActor pid=7596)\u001b[0m \n",
      "\u001b[36m(ClientAppActor pid=7596)\u001b[0m         \n",
      "\u001b[36m(ClientAppActor pid=7596)\u001b[0m \u001b[93mWARNING \u001b[0m:   DEPRECATED FEATURE: `client_fn` now expects a signature `def client_fn(context: Context)`.The provided `client_fn` has signature: {'cid': <Parameter \"cid: str\">}. You can import the `Context` like this: `from flwr.common import Context`\u001b[32m [repeated 10x across cluster]\u001b[0m\n",
      "\u001b[36m(ClientAppActor pid=7596)\u001b[0m             This is a deprecated feature. It will be removed\u001b[32m [repeated 10x across cluster]\u001b[0m\n",
      "\u001b[36m(ClientAppActor pid=7596)\u001b[0m             entirely in future versions of Flower.\u001b[32m [repeated 10x across cluster]\u001b[0m\n",
      "\u001b[36m(ClientAppActor pid=23312)\u001b[0m \n",
      "\u001b[36m(ClientAppActor pid=23312)\u001b[0m         \n",
      "\u001b[36m(ClientAppActor pid=17368)\u001b[0m \n",
      "\u001b[36m(ClientAppActor pid=17368)\u001b[0m         \n",
      "\u001b[36m(ClientAppActor pid=24920)\u001b[0m \n",
      "\u001b[36m(ClientAppActor pid=24920)\u001b[0m         \n",
      "\u001b[36m(ClientAppActor pid=20928)\u001b[0m \n",
      "\u001b[36m(ClientAppActor pid=20928)\u001b[0m         \n",
      "\u001b[92mINFO \u001b[0m:      aggregate_evaluate: received 5 results and 0 failures\n",
      "\u001b[92mINFO \u001b[0m:      \n",
      "\u001b[92mINFO \u001b[0m:      [SUMMARY]\n",
      "\u001b[92mINFO \u001b[0m:      Run finished 5 round(s) in 65.63s\n",
      "\u001b[92mINFO \u001b[0m:      \tHistory (loss, distributed):\n",
      "\u001b[92mINFO \u001b[0m:      \t\tround 1: 0.11916693476736545\n",
      "\u001b[92mINFO \u001b[0m:      \t\tround 2: 0.04302505628317595\n",
      "\u001b[92mINFO \u001b[0m:      \t\tround 3: 0.034297017525695264\n",
      "\u001b[92mINFO \u001b[0m:      \t\tround 4: 0.030517222267575562\n",
      "\u001b[92mINFO \u001b[0m:      \t\tround 5: 0.03019249470140785\n",
      "\u001b[92mINFO \u001b[0m:      \tHistory (metrics, distributed, evaluate):\n",
      "\u001b[92mINFO \u001b[0m:      \t{'accuracy': [(1, 0.9725), (2, 0.9854), (3, 0.988), (4, 0.9896), (5, 0.9907)]}\n",
      "\u001b[92mINFO \u001b[0m:      \n"
     ]
    }
   ],
   "source": [
    "history = fl.simulation.start_simulation(\n",
    "    client_fn       = client_fn,\n",
    "    num_clients     = NUM_CLIENTS,\n",
    "    config          = fl.server.ServerConfig(num_rounds=5),\n",
    "    strategy        = strategy,\n",
    "    client_resources={\"num_cpus\":1, \"num_gpus\":0.0},\n",
    ")\n"
   ]
  },
  {
   "cell_type": "markdown",
   "id": "76c2c0fe-5ef0-49c5-8330-850b00d087e8",
   "metadata": {},
   "source": [
    "训练曲线"
   ]
  },
  {
   "cell_type": "code",
   "execution_count": 9,
   "id": "444b2bfc-9b90-4150-a2da-f8b772cf6857",
   "metadata": {},
   "outputs": [
    {
     "data": {
      "image/png": "[encoded data removed]",
      "text/plain": [
       "<Figure size 1000x400 with 2 Axes>"
      ]
     },
     "metadata": {},
     "output_type": "display_data"
    }
   ],
   "source": [
    "rnd = range(1, len(strategy.hist_acc)+1)\n",
    "fig,ax = plt.subplots(1,2,figsize=(10,4))\n",
    "ax[0].plot(rnd, strategy.hist_loss, 'o-'); ax[0].set_title(\"Loss\")\n",
    "ax[1].plot(rnd, strategy.hist_acc,  'o-'); ax[1].set_title(\"Accuracy\")\n",
    "for a in ax: a.set_xlabel(\"round\")\n",
    "plt.show()\n"
   ]
  },
  {
   "cell_type": "markdown",
   "id": "ca4f8e9e-93a5-4f85-8064-bf19fe8d9d5b",
   "metadata": {},
   "source": [
    "全局模型评估"
   ]
  },
  {
   "cell_type": "code",
   "execution_count": 11,
   "id": "e45285ad-06a1-4c4b-a080-1095fcd34e62",
   "metadata": {},
   "outputs": [
    {
     "data": {
      "text/plain": [
       "SimpleCNN(\n",
       "  (conv1): Conv2d(1, 32, kernel_size=(3, 3), stride=(1, 1))\n",
       "  (conv2): Conv2d(32, 64, kernel_size=(3, 3), stride=(1, 1))\n",
       "  (fc1): Linear(in_features=9216, out_features=128, bias=True)\n",
       "  (fc2): Linear(in_features=128, out_features=10, bias=True)\n",
       ")"
      ]
     },
     "execution_count": 11,
     "metadata": {},
     "output_type": "execute_result"
    }
   ],
   "source": [
    "from flwr.common import parameters_to_ndarrays   # ← NEW\n",
    "\n",
    "# 1. 把 Parameters → list[np.ndarray]\n",
    "ndarrays = parameters_to_ndarrays(strategy.final_params)\n",
    "\n",
    "# 2. 组装成符合 state_dict 的格式\n",
    "state = {k: torch.tensor(v) for k, v in zip(global_net.state_dict().keys(),\n",
    "                                            ndarrays)}\n",
    "global_net = SimpleCNN()\n",
    "global_net.load_state_dict(state)\n",
    "global_net.eval()\n"
   ]
  },
  {
   "cell_type": "code",
   "execution_count": 12,
   "id": "b5446b09-d335-4eb0-b3ab-02cb614f544d",
   "metadata": {},
   "outputs": [
    {
     "name": "stdout",
     "output_type": "stream",
     "text": [
      "Global test accuracy: 99.07%\n"
     ]
    },
    {
     "data": {
      "image/png": "[encoded data removed]",
      "text/plain": [
       "<Figure size 640x480 with 1 Axes>"
      ]
     },
     "metadata": {},
     "output_type": "display_data"
    },
    {
     "name": "stdout",
     "output_type": "stream",
     "text": [
      "Macro ROC-AUC: 1.000\n"
     ]
    }
   ],
   "source": [
    "from flwr.common import parameters_to_ndarrays\n",
    "import numpy as np, torch, matplotlib.pyplot as plt\n",
    "from sklearn.metrics import confusion_matrix, ConfusionMatrixDisplay, roc_auc_score\n",
    "from torchvision import datasets, transforms\n",
    "from torch.utils.data import DataLoader\n",
    "\n",
    "# ---- 1. 载入 Flower 聚合后的权重 ----\n",
    "ndarrays = parameters_to_ndarrays(strategy.final_params)   # 解包\n",
    "global_net = SimpleCNN()\n",
    "global_net.load_state_dict(\n",
    "    {k: torch.tensor(v) for k, v in zip(global_net.state_dict().keys(), ndarrays)}\n",
    ")\n",
    "global_net.eval()\n",
    "\n",
    "# ---- 2. 准备测试集 ----\n",
    "tf = transforms.Compose([transforms.ToTensor(),\n",
    "                         transforms.Normalize((0.1307,), (0.3081,))])\n",
    "test_ds = datasets.MNIST(\"data\", train=False, download=True, transform=tf)\n",
    "test_ld = DataLoader(test_ds, 1024, shuffle=False)\n",
    "\n",
    "# ---- 3. 推理收集预测 ----\n",
    "y_true, y_prob = [], []\n",
    "with torch.no_grad():\n",
    "    for x, y in test_ld:\n",
    "        probs = global_net(x).softmax(1)\n",
    "        y_true.extend(y.numpy())\n",
    "        y_prob.extend(probs.numpy())\n",
    "\n",
    "y_prob = np.vstack(y_prob)\n",
    "y_pred = y_prob.argmax(1)\n",
    "acc = (y_pred == np.array(y_true)).mean()\n",
    "print(f\"Global test accuracy: {acc:.2%}\")\n",
    "\n",
    "# ---- 4. 可视化 ----\n",
    "cm = confusion_matrix(y_true, y_pred)\n",
    "ConfusionMatrixDisplay(cm).plot(colorbar=False)\n",
    "plt.title(\"MNIST confusion matrix\"); plt.show()\n",
    "\n",
    "auc_macro = roc_auc_score(y_true, y_prob, multi_class=\"ovr\")\n",
    "print(f\"Macro ROC-AUC: {auc_macro:.3f}\")\n",
    "\n"
   ]
  },
  {
   "cell_type": "code",
   "execution_count": null,
   "id": "50180a7f-ec7a-431f-9790-9a2e61fa8683",
   "metadata": {},
   "outputs": [],
   "source": []
  }
 ],
 "metadata": {
  "kernelspec": {
   "display_name": "Python (dl-exp)",
   "language": "python",
   "name": "dl-exp"
  },
  "language_info": {
   "codemirror_mode": {
    "name": "ipython",
    "version": 3
   },
   "file_extension": ".py",
   "mimetype": "text/x-python",
   "name": "python",
   "nbconvert_exporter": "python",
   "pygments_lexer": "ipython3",
   "version": "3.9.21"
  }
 },
 "nbformat": 4,
 "nbformat_minor": 5
}
