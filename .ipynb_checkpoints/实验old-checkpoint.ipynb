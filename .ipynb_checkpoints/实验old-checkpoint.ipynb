{
 "cells": [
  {
   "cell_type": "code",
   "execution_count": 1,
   "id": "7bb557c6-1f37-41e2-8b5d-fc47719024eb",
   "metadata": {},
   "outputs": [],
   "source": [
    "import tarfile \n",
    "def unzip_tar(tar_path, extract_path='.'):\n",
    "    with tarfile.open(tar_path, 'r') as tar:\n",
    "        tar.extractall(path=extract_path)\n",
    "# 使用示例\n",
    "tar_path = 'dataset.tar'\n",
    "unzip_tar(tar_path)\n"
   ]
  },
  {
   "cell_type": "code",
   "execution_count": 1,
   "id": "d8765a13-20a4-4a48-a7b4-9d7a17427ba3",
   "metadata": {},
   "outputs": [
    {
     "ename": "ModuleNotFoundError",
     "evalue": "No module named 'torchvision'",
     "output_type": "error",
     "traceback": [
      "\u001b[1;31m---------------------------------------------------------------------------\u001b[0m",
      "\u001b[1;31mModuleNotFoundError\u001b[0m                       Traceback (most recent call last)",
      "Cell \u001b[1;32mIn[1], line 8\u001b[0m\n\u001b[0;32m      6\u001b[0m \u001b[38;5;28;01mimport\u001b[39;00m \u001b[38;5;21;01mtorch\u001b[39;00m\u001b[38;5;21;01m.\u001b[39;00m\u001b[38;5;21;01mutils\u001b[39;00m\u001b[38;5;21;01m.\u001b[39;00m\u001b[38;5;21;01mdata\u001b[39;00m \u001b[38;5;28;01mas\u001b[39;00m \u001b[38;5;21;01mdata\u001b[39;00m\n\u001b[0;32m      7\u001b[0m \u001b[38;5;28;01mimport\u001b[39;00m \u001b[38;5;21;01mtorch\u001b[39;00m\u001b[38;5;21;01m.\u001b[39;00m\u001b[38;5;21;01mutils\u001b[39;00m\u001b[38;5;21;01m.\u001b[39;00m\u001b[38;5;21;01mdata\u001b[39;00m\u001b[38;5;21;01m.\u001b[39;00m\u001b[38;5;21;01mdistributed\u001b[39;00m\n\u001b[1;32m----> 8\u001b[0m \u001b[38;5;28;01mimport\u001b[39;00m \u001b[38;5;21;01mtorchvision\u001b[39;00m\u001b[38;5;21;01m.\u001b[39;00m\u001b[38;5;21;01mtransforms\u001b[39;00m \u001b[38;5;28;01mas\u001b[39;00m \u001b[38;5;21;01mT\u001b[39;00m\n\u001b[0;32m      9\u001b[0m \u001b[38;5;28;01mimport\u001b[39;00m \u001b[38;5;21;01mtorchvision\u001b[39;00m\u001b[38;5;21;01m.\u001b[39;00m\u001b[38;5;21;01mmodels\u001b[39;00m \u001b[38;5;28;01mas\u001b[39;00m \u001b[38;5;21;01mmodels\u001b[39;00m\n\u001b[0;32m     10\u001b[0m \u001b[38;5;28;01mfrom\u001b[39;00m \u001b[38;5;21;01mtorch\u001b[39;00m\u001b[38;5;21;01m.\u001b[39;00m\u001b[38;5;21;01mautograd\u001b[39;00m \u001b[38;5;28;01mimport\u001b[39;00m Variable\n",
      "\u001b[1;31mModuleNotFoundError\u001b[0m: No module named 'torchvision'"
     ]
    }
   ],
   "source": [
    "# ===== Cell 1  : 依赖导入 =====\n",
    "import os\n",
    "import torch\n",
    "import torch.nn as nn\n",
    "import torch.optim as optim\n",
    "import torch.utils.data as data\n",
    "import torch.utils.data.distributed\n",
    "import torchvision.transforms as T\n",
    "import torchvision.models as models\n",
    "from torch.autograd import Variable\n",
    "from PIL import Image                # 如果后面自己写 Dataset 可能用到\n",
    "\n"
   ]
  },
  {
   "cell_type": "code",
   "execution_count": 2,
   "id": "5e08da3c-daaa-42bd-8bbe-3235add644b8",
   "metadata": {},
   "outputs": [
    {
     "name": "stdout",
     "output_type": "stream",
     "text": [
      "Using device: cpu\n"
     ]
    }
   ],
   "source": [
    "# ===== Cell 2  : 设备检测 =====\n",
    "DEVICE = torch.device('cuda' if torch.cuda.is_available() else 'cpu')\n",
    "print(\"Using device:\", DEVICE)\n"
   ]
  },
  {
   "cell_type": "code",
   "execution_count": 4,
   "id": "e56810ee-e30a-42b2-bc19-10fb7f1d6195",
   "metadata": {},
   "outputs": [
    {
     "ename": "IndentationError",
     "evalue": "unindent does not match any outer indentation level (<tokenize>, line 10)",
     "output_type": "error",
     "traceback": [
      "\u001b[1;36m  File \u001b[1;32m<tokenize>:10\u001b[1;36m\u001b[0m\n\u001b[1;33m    dog/\u001b[0m\n\u001b[1;37m    ^\u001b[0m\n\u001b[1;31mIndentationError\u001b[0m\u001b[1;31m:\u001b[0m unindent does not match any outer indentation level\n"
     ]
    }
   ],
   "source": [
    "//文件格式如下\n",
    "dataset/\n",
    "  train/\n",
    "    cat/\n",
    "      xxx.jpg\n",
    "    dog/\n",
    "      yyy.jpg\n",
    "  val/ \n",
    "      xxx.jpg\n",
    "    dog/\n",
    "      yyy.jpg\n",
    "  test/ \n",
    "      xxx.jpg\n",
    "    dog/\n",
    "      yyy.jpg"
   ]
  },
  {
   "cell_type": "code",
   "execution_count": 2,
   "id": "bc9eb25b-7289-416c-bafa-e7b0fcb97990",
   "metadata": {},
   "outputs": [
    {
     "ename": "ModuleNotFoundError",
     "evalue": "No module named 'torchvision'",
     "output_type": "error",
     "traceback": [
      "\u001b[1;31m---------------------------------------------------------------------------\u001b[0m",
      "\u001b[1;31mModuleNotFoundError\u001b[0m                       Traceback (most recent call last)",
      "Cell \u001b[1;32mIn[2], line 1\u001b[0m\n\u001b[1;32m----> 1\u001b[0m \u001b[38;5;28;01mimport\u001b[39;00m \u001b[38;5;21;01mtorch\u001b[39;00m\u001b[38;5;241m,\u001b[39m \u001b[38;5;21;01mtorchvision\u001b[39;00m\u001b[38;5;241m,\u001b[39m \u001b[38;5;21;01mtorchaudio\u001b[39;00m\u001b[38;5;241m,\u001b[39m \u001b[38;5;21;01mplatform\u001b[39;00m\u001b[38;5;241m,\u001b[39m \u001b[38;5;21;01msubprocess\u001b[39;00m\u001b[38;5;241m,\u001b[39m \u001b[38;5;21;01msys\u001b[39;00m\u001b[38;5;241m,\u001b[39m \u001b[38;5;21;01mjson\u001b[39;00m\n\u001b[0;32m      3\u001b[0m \u001b[38;5;28;01mdef\u001b[39;00m \u001b[38;5;21mcuda_info\u001b[39m():\n\u001b[0;32m      4\u001b[0m     \u001b[38;5;28;01mtry\u001b[39;00m:\n",
      "\u001b[1;31mModuleNotFoundError\u001b[0m: No module named 'torchvision'"
     ]
    }
   ],
   "source": [
    "import torch, torchvision, torchaudio, platform, subprocess, sys, json\n",
    "\n",
    "def cuda_info():\n",
    "    try:\n",
    "        out = subprocess.check_output([\"nvidia-smi\", \"--query-gpu=name,driver_version\", \"--format=csv,noheader\"]).decode()\n",
    "        return out.strip()\n",
    "    except Exception:\n",
    "        return \"nvidia-smi unavailable\"\n",
    "\n",
    "info = {\n",
    "    \"Python\": sys.version.split()[0],\n",
    "    \"torch\": torch.__version__,\n",
    "    \"torchvision\": torchvision.__version__,\n",
    "    \"torchaudio\": torchaudio.__version__,\n",
    "    \"torch.cuda.is_available\": torch.cuda.is_available(),\n",
    "    \"CUDA runtime (torch.version.cuda)\": torch.version.cuda,\n",
    "    \"GPU & Driver\": cuda_info(),\n",
    "    \"Device count\": torch.cuda.device_count(),\n",
    "}\n",
    "\n",
    "print(json.dumps(info, indent=2))\n"
   ]
  },
  {
   "cell_type": "code",
   "execution_count": null,
   "id": "a30c8062-574b-4e12-9487-a34492ce6ef2",
   "metadata": {},
   "outputs": [],
   "source": []
  }
 ],
 "metadata": {
  "kernelspec": {
   "display_name": "Python 3 (ipykernel)",
   "language": "python",
   "name": "python3"
  },
  "language_info": {
   "codemirror_mode": {
    "name": "ipython",
    "version": 3
   },
   "file_extension": ".py",
   "mimetype": "text/x-python",
   "name": "python",
   "nbconvert_exporter": "python",
   "pygments_lexer": "ipython3",
   "version": "3.10.9"
  }
 },
 "nbformat": 4,
 "nbformat_minor": 5
}
