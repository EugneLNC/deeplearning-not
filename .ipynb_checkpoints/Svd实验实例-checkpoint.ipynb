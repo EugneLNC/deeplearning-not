{
 "cells": [
  {
   "cell_type": "code",
   "execution_count": 1,
   "id": "c625b2d4-47f0-4166-83c8-b5778abda731",
   "metadata": {},
   "outputs": [
    {
     "ename": "ModuleNotFoundError",
     "evalue": "No module named 'skimage'",
     "output_type": "error",
     "traceback": [
      "\u001b[1;31m---------------------------------------------------------------------------\u001b[0m",
      "\u001b[1;31mModuleNotFoundError\u001b[0m                       Traceback (most recent call last)",
      "Cell \u001b[1;32mIn[1], line 4\u001b[0m\n\u001b[0;32m      2\u001b[0m \u001b[38;5;28;01mimport\u001b[39;00m\u001b[38;5;250m \u001b[39m\u001b[38;5;21;01mnumpy\u001b[39;00m\u001b[38;5;250m \u001b[39m\u001b[38;5;28;01mas\u001b[39;00m\u001b[38;5;250m \u001b[39m\u001b[38;5;21;01mnp\u001b[39;00m\n\u001b[0;32m      3\u001b[0m \u001b[38;5;28;01mimport\u001b[39;00m\u001b[38;5;250m \u001b[39m\u001b[38;5;21;01mmatplotlib\u001b[39;00m\u001b[38;5;21;01m.\u001b[39;00m\u001b[38;5;21;01mpyplot\u001b[39;00m\u001b[38;5;250m \u001b[39m\u001b[38;5;28;01mas\u001b[39;00m\u001b[38;5;250m \u001b[39m\u001b[38;5;21;01mplt\u001b[39;00m\n\u001b[1;32m----> 4\u001b[0m \u001b[38;5;28;01mfrom\u001b[39;00m\u001b[38;5;250m \u001b[39m\u001b[38;5;21;01mskimage\u001b[39;00m\u001b[38;5;250m \u001b[39m\u001b[38;5;28;01mimport\u001b[39;00m data, color\n\u001b[0;32m      6\u001b[0m \u001b[38;5;66;03m# 载入示例灰度图（512×512）\u001b[39;00m\n\u001b[0;32m      7\u001b[0m img \u001b[38;5;241m=\u001b[39m color\u001b[38;5;241m.\u001b[39mrgb2gray(data\u001b[38;5;241m.\u001b[39mastronaut())  \u001b[38;5;66;03m# 用天文台图转换灰度\u001b[39;00m\n",
      "\u001b[1;31mModuleNotFoundError\u001b[0m: No module named 'skimage'"
     ]
    }
   ],
   "source": [
    "# Cell 1 — 从本地路径读取图像并转换为灰度矩阵\n",
    "\n",
    "from PIL import Image\n",
    "import numpy as np\n",
    "import matplotlib.pyplot as plt\n",
    "\n",
    "# 注意：用原始字符串或双反斜杠\n",
    "img_path = r\"E:\\项目\\深度学习实验\\deeplearning-not\\jd.png\"\n",
    "\n",
    "# 打开、转灰度、转换为 NumPy 数组（float）\n",
    "img = Image.open(img_path).convert(\"L\")\n",
    "img_array = np.array(img, dtype=float) / 255.0   # 归一化到 [0,1]\n",
    "\n",
    "H, W = img_array.shape\n",
    "print(f\"Loaded image of shape: {H}×{W}\")\n",
    "\n",
    "# 可视化原图\n",
    "plt.figure(figsize=(5,5))\n",
    "plt.imshow(img_array, cmap='gray')\n",
    "plt.title(\"Original jd.png (grayscale)\")\n",
    "plt.axis('off')\n",
    "plt.show()\n"
   ]
  },
  {
   "cell_type": "code",
   "execution_count": null,
   "id": "9ff3c02b-5dff-4de1-a772-1d42a4346136",
   "metadata": {},
   "outputs": [],
   "source": []
  }
 ],
 "metadata": {
  "kernelspec": {
   "display_name": "Python (dl-exp)",
   "language": "python",
   "name": "dl-exp"
  },
  "language_info": {
   "codemirror_mode": {
    "name": "ipython",
    "version": 3
   },
   "file_extension": ".py",
   "mimetype": "text/x-python",
   "name": "python",
   "nbconvert_exporter": "python",
   "pygments_lexer": "ipython3",
   "version": "3.9.21"
  }
 },
 "nbformat": 4,
 "nbformat_minor": 5
}
